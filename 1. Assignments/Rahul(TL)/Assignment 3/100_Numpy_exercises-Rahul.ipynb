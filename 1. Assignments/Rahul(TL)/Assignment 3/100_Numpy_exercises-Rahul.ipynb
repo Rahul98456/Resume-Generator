{
  "cells": [
    {
      "cell_type": "markdown",
      "id": "6293cc50",
      "metadata": {
        "id": "6293cc50"
      },
      "source": [
        "# 100 numpy exercises\n",
        "\n",
        "This is a collection of exercises that have been collected in the numpy mailing list, on stack overflow\n",
        "and in the numpy documentation. The goal of this collection is to offer a quick reference for both old\n",
        "and new users but also to provide a set of exercises for those who teach.\n",
        "\n",
        "\n",
        "If you find an error or think you've a better way to solve some of them, feel\n",
        "free to open an issue at <https://github.com/rougier/numpy-100>."
      ]
    },
    {
      "cell_type": "markdown",
      "id": "a167c052",
      "metadata": {
        "id": "a167c052"
      },
      "source": [
        "File automatically generated. See the documentation to update questions/answers/hints programmatically."
      ]
    },
    {
      "cell_type": "markdown",
      "id": "57fc0ee5",
      "metadata": {
        "id": "57fc0ee5"
      },
      "source": [
        "Run the `initialize.py` module, then for each question you can query the\n",
        "answer or an hint with `hint(n)` or `answer(n)` for `n` question number."
      ]
    },
    {
      "cell_type": "code",
      "execution_count": null,
      "id": "3d46fba2",
      "metadata": {
        "id": "3d46fba2"
      },
      "outputs": [],
      "source": [
        "%run initialise.py"
      ]
    },
    {
      "cell_type": "markdown",
      "id": "3c1222ff",
      "metadata": {
        "id": "3c1222ff"
      },
      "source": [
        "#### 1. Import the numpy package under the name `np` (★☆☆)"
      ]
    },
    {
      "cell_type": "code",
      "execution_count": null,
      "id": "f52e6a0b",
      "metadata": {
        "id": "f52e6a0b"
      },
      "outputs": [],
      "source": [
        "import numpy as np\n"
      ]
    },
    {
      "cell_type": "markdown",
      "id": "9d9f4753",
      "metadata": {
        "id": "9d9f4753"
      },
      "source": [
        "#### 2. Print the numpy version and the configuration (★☆☆)"
      ]
    },
    {
      "cell_type": "code",
      "execution_count": null,
      "id": "b7fa5fa1",
      "metadata": {
        "id": "b7fa5fa1"
      },
      "outputs": [],
      "source": [
        "import numpy as np\n",
        "\n",
        "print(\"NumPy Version:\", np.__version__)\n",
        "\n",
        "np.show_config()\n"
      ]
    },
    {
      "cell_type": "markdown",
      "id": "3e4c23c6",
      "metadata": {
        "id": "3e4c23c6"
      },
      "source": [
        "#### 3. Create a null vector of size 10 (★☆☆)"
      ]
    },
    {
      "cell_type": "code",
      "execution_count": null,
      "id": "083c5c46",
      "metadata": {
        "id": "083c5c46"
      },
      "outputs": [],
      "source": [
        "import numpy as np\n",
        "\n",
        "null_vector = np.zeros(10)\n",
        "\n",
        "print(null_vector)\n"
      ]
    },
    {
      "cell_type": "markdown",
      "id": "c38bbe82",
      "metadata": {
        "id": "c38bbe82"
      },
      "source": [
        "#### 4. How to find the memory size of any array (★☆☆)"
      ]
    },
    {
      "cell_type": "code",
      "execution_count": null,
      "id": "02b04021",
      "metadata": {
        "id": "02b04021"
      },
      "outputs": [],
      "source": [
        "import numpy as np\n",
        "\n",
        "arr = np.array([1, 2, 3, 4, 5])\n",
        "\n",
        "print(\"Memory size using nbytes:\", arr.nbytes, \"bytes\")"
      ]
    },
    {
      "cell_type": "markdown",
      "id": "67f893d4",
      "metadata": {
        "id": "67f893d4"
      },
      "source": [
        "#### 5. How to get the documentation of the numpy add function from the command line? (★☆☆)"
      ]
    },
    {
      "cell_type": "code",
      "execution_count": null,
      "id": "40e6b70d",
      "metadata": {
        "id": "40e6b70d"
      },
      "outputs": [],
      "source": [
        "import numpy as np\n",
        "help(np.add)"
      ]
    },
    {
      "cell_type": "markdown",
      "id": "e0c739c6",
      "metadata": {
        "id": "e0c739c6"
      },
      "source": [
        "#### 6. Create a null vector of size 10 but the fifth value which is 1 (★☆☆)\n",
        "\n",
        "*   List item\n",
        "*   List item\n",
        "\n"
      ]
    },
    {
      "cell_type": "code",
      "execution_count": null,
      "id": "bcceacf7",
      "metadata": {
        "id": "bcceacf7"
      },
      "outputs": [],
      "source": [
        "import numpy as np\n",
        "\n",
        "vector = np.zeros(10)\n",
        "\n",
        "vector[4] = 1\n",
        "\n",
        "print(vector)\n"
      ]
    },
    {
      "cell_type": "markdown",
      "id": "fbebedab",
      "metadata": {
        "id": "fbebedab"
      },
      "source": [
        "#### 7. Create a vector with values ranging from 10 to 49 (★☆☆)"
      ]
    },
    {
      "cell_type": "code",
      "execution_count": null,
      "id": "3d117d54",
      "metadata": {
        "id": "3d117d54"
      },
      "outputs": [],
      "source": [
        "import numpy as np\n",
        "\n",
        "vector = np.arange(10, 50)\n",
        "\n",
        "print(vector)\n"
      ]
    },
    {
      "cell_type": "markdown",
      "id": "ad0bff02",
      "metadata": {
        "id": "ad0bff02"
      },
      "source": [
        "#### 8. Reverse a vector (first element becomes last) (★☆☆)"
      ]
    },
    {
      "cell_type": "code",
      "execution_count": null,
      "id": "22d23470",
      "metadata": {
        "id": "22d23470"
      },
      "outputs": [],
      "source": [
        "import numpy as np\n",
        "\n",
        "vector = np.arange(10, 50)\n",
        "\n",
        "reversed_vector = vector[::-1]\n",
        "\n",
        "print(reversed_vector)\n"
      ]
    },
    {
      "cell_type": "markdown",
      "id": "9f59d7e1",
      "metadata": {
        "id": "9f59d7e1"
      },
      "source": [
        "#### 9. Create a 3x3 matrix with values ranging from 0 to 8 (★☆☆)"
      ]
    },
    {
      "cell_type": "code",
      "execution_count": null,
      "id": "7449e82d",
      "metadata": {
        "id": "7449e82d"
      },
      "outputs": [],
      "source": [
        "import numpy as np\n",
        "\n",
        "matrix = np.arange(9).reshape(3, 3)\n",
        "\n",
        "print(matrix)\n"
      ]
    },
    {
      "cell_type": "markdown",
      "id": "f374c4cf",
      "metadata": {
        "id": "f374c4cf"
      },
      "source": [
        "#### 10. Find indices of non-zero elements from [1,2,0,0,4,0] (★☆☆)"
      ]
    },
    {
      "cell_type": "code",
      "execution_count": null,
      "id": "1a84bed8",
      "metadata": {
        "id": "1a84bed8"
      },
      "outputs": [],
      "source": [
        "import numpy as np\n",
        "\n",
        "arr = np.array([1, 2, 0, 0, 4, 0])\n",
        "\n",
        "indices = np.nonzero(arr)\n",
        "\n",
        "print(indices)\n"
      ]
    },
    {
      "cell_type": "markdown",
      "id": "9c4707f5",
      "metadata": {
        "id": "9c4707f5"
      },
      "source": [
        "#### 11. Create a 3x3 identity matrix (★☆☆)"
      ]
    },
    {
      "cell_type": "code",
      "execution_count": null,
      "id": "29dc1fd3",
      "metadata": {
        "id": "29dc1fd3"
      },
      "outputs": [],
      "source": [
        "import numpy as np\n",
        "\n",
        "# Create a 3x3 identity matrix\n",
        "identity_matrix = np.eye(3)\n",
        "\n",
        "print(identity_matrix)\n"
      ]
    },
    {
      "cell_type": "markdown",
      "id": "3bac294a",
      "metadata": {
        "id": "3bac294a"
      },
      "source": [
        "#### 12. Create a 3x3x3 array with random values (★☆☆)"
      ]
    },
    {
      "cell_type": "code",
      "execution_count": null,
      "id": "eadfae67",
      "metadata": {
        "id": "eadfae67"
      },
      "outputs": [],
      "source": [
        "import numpy as np\n",
        "\n",
        "array = np.random.random((3, 3, 3))\n",
        "print(array)"
      ]
    },
    {
      "cell_type": "markdown",
      "id": "466c2989",
      "metadata": {
        "id": "466c2989"
      },
      "source": [
        "#### 13. Create a 10x10 array with random values and find the minimum and maximum values (★☆☆)"
      ]
    },
    {
      "cell_type": "code",
      "execution_count": null,
      "id": "9a74dbfc",
      "metadata": {
        "id": "9a74dbfc"
      },
      "outputs": [],
      "source": [
        "import numpy as np\n",
        "\n",
        "array = np.random.random((10, 10))\n",
        "\n",
        "min_value = array.min()\n",
        "max_value = array.max()"
      ]
    },
    {
      "cell_type": "markdown",
      "id": "53a8edb2",
      "metadata": {
        "id": "53a8edb2"
      },
      "source": [
        "#### 14. Create a random vector of size 30 and find the mean value (★☆☆)"
      ]
    },
    {
      "cell_type": "code",
      "execution_count": null,
      "id": "6691530b",
      "metadata": {
        "id": "6691530b"
      },
      "outputs": [],
      "source": [
        "import numpy as np\n",
        "\n",
        "vector = np.random.random(30)\n",
        "\n",
        "mean_value = vector.mean()"
      ]
    },
    {
      "cell_type": "markdown",
      "id": "cbaad31c",
      "metadata": {
        "id": "cbaad31c"
      },
      "source": [
        "#### 15. Create a 2d array with 1 on the border and 0 inside (★☆☆)"
      ]
    },
    {
      "cell_type": "code",
      "execution_count": null,
      "id": "ad8308e3",
      "metadata": {
        "id": "ad8308e3"
      },
      "outputs": [],
      "source": [
        "import numpy as np\n",
        "\n",
        "rows, cols = 6, 6\n",
        "\n",
        "array = np.ones((rows, cols), dtype=int)\n",
        "\n",
        "array[1:-1, 1:-1] = 0\n",
        "\n",
        "print(array)"
      ]
    },
    {
      "cell_type": "markdown",
      "id": "c5ecc267",
      "metadata": {
        "id": "c5ecc267"
      },
      "source": [
        "#### 16. How to add a border (filled with 0's) around an existing array? (★☆☆)"
      ]
    },
    {
      "cell_type": "code",
      "execution_count": null,
      "id": "9d5c78c4",
      "metadata": {
        "id": "9d5c78c4"
      },
      "outputs": [],
      "source": [
        "import numpy as np\n",
        "\n",
        "array = np.ones((3, 3), dtype=int)\n",
        "print(\"Original Array:\\n\", array)\n",
        "\n",
        "bordered_array = np.pad(array, pad_width=1, mode='constant', constant_values=0)\n",
        "\n",
        "print(\"\\nArray with Border:\\n\", bordered_array)"
      ]
    },
    {
      "cell_type": "markdown",
      "id": "ef909b72",
      "metadata": {
        "id": "ef909b72"
      },
      "source": [
        "#### 17. What is the result of the following expression? (★☆☆)\n",
        "```python\n",
        "0 * np.nan\n",
        "np.nan == np.nan\n",
        "np.inf > np.nan\n",
        "np.nan - np.nan\n",
        "np.nan in set([np.nan])\n",
        "0.3 == 3 * 0.1\n",
        "```"
      ]
    },
    {
      "cell_type": "code",
      "execution_count": null,
      "id": "3b4985f2",
      "metadata": {
        "id": "3b4985f2"
      },
      "outputs": [],
      "source": [
        "import numpy as np\n",
        "\n",
        "# 1. 0 * np.nan\n",
        "print(0 * np.nan)  # Output: nan (Multiplying anything with NaN results in NaN)\n",
        "\n",
        "# 2. np.nan == np.nan\n",
        "print(np.nan == np.nan)  # Output: False (NaN is never equal to itself)\n",
        "\n",
        "# 3. np.inf > np.nan\n",
        "print(np.inf > np.nan)  # Output: False (Any comparison with NaN returns False)\n",
        "\n",
        "# 4. np.nan - np.nan\n",
        "print(np.nan - np.nan)  # Output: nan (Any arithmetic operation with NaN results in NaN)\n",
        "\n",
        "# 5. np.nan in set([np.nan])\n",
        "print(np.nan in set([np.nan]))  # Output: True (Python's `set` stores NaN as a unique value)\n",
        "\n",
        "print(0.3 == 3 * 0.1)"
      ]
    },
    {
      "cell_type": "markdown",
      "id": "502738ac",
      "metadata": {
        "id": "502738ac"
      },
      "source": [
        "#### 18. Create a 5x5 matrix with values 1,2,3,4 just below the diagonal (★☆☆)"
      ]
    },
    {
      "cell_type": "code",
      "execution_count": null,
      "id": "faed6e2b",
      "metadata": {
        "id": "faed6e2b"
      },
      "outputs": [],
      "source": [
        "import numpy as np\n",
        "\n",
        "matrix = np.diag(np.arange(1, 5), k=-1)\n",
        "\n",
        "print(matrix)"
      ]
    },
    {
      "cell_type": "markdown",
      "id": "a65da660",
      "metadata": {
        "id": "a65da660"
      },
      "source": [
        "#### 19. Create a 8x8 matrix and fill it with a checkerboard pattern (★☆☆)"
      ]
    },
    {
      "cell_type": "code",
      "execution_count": null,
      "id": "ed150400",
      "metadata": {
        "id": "ed150400"
      },
      "outputs": [],
      "source": [
        "import numpy as np\n",
        "\n",
        "checkerboard = np.zeros((8, 8), dtype=int)\n",
        "\n",
        "checkerboard[1::2, ::2] = 1\n",
        "checkerboard[::2, 1::2] = 1\n",
        "\n",
        "print(checkerboard)"
      ]
    },
    {
      "cell_type": "markdown",
      "id": "9f7f9c49",
      "metadata": {
        "id": "9f7f9c49"
      },
      "source": [
        "#### 20. Consider a (6,7,8) shape array, what is the index (x,y,z) of the 100th element? (★☆☆)"
      ]
    },
    {
      "cell_type": "code",
      "execution_count": null,
      "id": "3782b5a9",
      "metadata": {
        "id": "3782b5a9"
      },
      "outputs": [],
      "source": []
    },
    {
      "cell_type": "markdown",
      "id": "66bfda35",
      "metadata": {
        "id": "66bfda35"
      },
      "source": [
        "#### 21. Create a checkerboard 8x8 matrix using the tile function (★☆☆)"
      ]
    },
    {
      "cell_type": "code",
      "execution_count": null,
      "id": "4c07477c",
      "metadata": {
        "id": "4c07477c"
      },
      "outputs": [],
      "source": [
        "import numpy as np\n",
        "\n",
        "pattern = np.array([[0, 1], [1, 0]])\n",
        "\n",
        "checkerboard = np.tile(pattern, (4, 4))\n",
        "\n",
        "print(checkerboard)"
      ]
    },
    {
      "cell_type": "markdown",
      "id": "d5bcfc08",
      "metadata": {
        "id": "d5bcfc08"
      },
      "source": [
        "#### 22. Normalize a 5x5 random matrix (★☆☆)\n",
        "\n",
        "> Add blockquote\n",
        "\n"
      ]
    },
    {
      "cell_type": "code",
      "execution_count": null,
      "id": "cea6c993",
      "metadata": {
        "id": "cea6c993"
      },
      "outputs": [],
      "source": [
        "import numpy as np\n",
        "\n",
        "# Create a 5x5 random matrix\n",
        "matrix = np.random.rand(5, 5)\n",
        "\n",
        "# Normalize the matrix\n",
        "normalized_matrix = (matrix - np.min(matrix)) / (np.max(matrix) - np.min(matrix))\n",
        "\n",
        "print(\"Original Matrix:\\n\", matrix)\n",
        "print(\"\\nNormalized Matrix:\\n\", normalized_matrix)"
      ]
    },
    {
      "cell_type": "markdown",
      "id": "f9a0911e",
      "metadata": {
        "id": "f9a0911e"
      },
      "source": [
        "#### 23. Create a custom dtype that describes a color as four unsigned bytes (RGBA) (★☆☆)"
      ]
    },
    {
      "cell_type": "code",
      "execution_count": null,
      "id": "d165044b",
      "metadata": {
        "id": "d165044b"
      },
      "outputs": [],
      "source": [
        "import numpy as np\n",
        "\n",
        "color_dtype = np.dtype([\n",
        "    ('R', np.uint8),  # Red channel (0–255)\n",
        "    ('G', np.uint8),  # Green channel (0–255)\n",
        "    ('B', np.uint8),  # Blue channel (0–255)\n",
        "    ('A', np.uint8)   # Alpha channel (0–255, opacity)\n",
        "])\n",
        "\n",
        "colors = np.array([\n",
        "    (255, 0, 0, 255),    # Red (fully opaque)\n",
        "    (0, 255, 0, 255),    # Green (fully opaque)\n",
        "    (0, 0, 255, 255),    # Blue (fully opaque)\n",
        "    (255, 255, 0, 128)   # Yellow (semi-transparent)\n",
        "], dtype=color_dtype)\n",
        "\n",
        "# Print the array\n",
        "print(colors)"
      ]
    },
    {
      "cell_type": "markdown",
      "id": "654805b1",
      "metadata": {
        "id": "654805b1"
      },
      "source": [
        "#### 24. Multiply a 5x3 matrix by a 3x2 matrix (real matrix product) (★☆☆)"
      ]
    },
    {
      "cell_type": "code",
      "execution_count": null,
      "id": "6a42619f",
      "metadata": {
        "id": "6a42619f"
      },
      "outputs": [],
      "source": [
        "import numpy as np\n",
        "\n",
        "A = np.random.rand(5, 3)\n",
        "\n",
        "B = np.random.rand(3, 2)\n",
        "\n",
        "result = np.dot(A, B)"
      ]
    },
    {
      "cell_type": "markdown",
      "id": "994c25df",
      "metadata": {
        "id": "994c25df"
      },
      "source": [
        "#### 25. Given a 1D array, negate all elements which are between 3 and 8, in place. (★☆☆)"
      ]
    },
    {
      "cell_type": "code",
      "execution_count": null,
      "id": "e4b39c03",
      "metadata": {
        "id": "e4b39c03"
      },
      "outputs": [],
      "source": [
        "import numpy as np\n",
        "\n",
        "array = np.array([1, 3, 5, 7, 9, 2, 4, 6, 8, 10])\n",
        "\n",
        "array[(array > 3) & (array < 8)] *= -1\n",
        "\n",
        "print(array)"
      ]
    },
    {
      "cell_type": "markdown",
      "id": "b7d15d1a",
      "metadata": {
        "id": "b7d15d1a"
      },
      "source": [
        "#### 26. What is the output of the following script? (★☆☆)\n",
        "```python\n",
        "# Author: Jake VanderPlas\n",
        "\n",
        "print(sum(range(5),-1))\n",
        "from numpy import *\n",
        "print(sum(range(5),-1))\n",
        "```"
      ]
    },
    {
      "cell_type": "code",
      "execution_count": null,
      "id": "4c95bc3f",
      "metadata": {
        "id": "4c95bc3f"
      },
      "outputs": [],
      "source": [
        "print(sum(range(5), -1))\n",
        "\n",
        "from numpy import *\n",
        "print(sum(range(5), -1))"
      ]
    },
    {
      "cell_type": "markdown",
      "id": "a34f0d08",
      "metadata": {
        "id": "a34f0d08"
      },
      "source": [
        "#### 27. Consider an integer vector Z, which of these expressions are legal? (★☆☆)\n",
        "```python\n",
        "Z**Z\n",
        "2 << Z >> 2\n",
        "Z <- Z\n",
        "1j*Z\n",
        "Z/1/1\n",
        "Z<Z>Z\n",
        "```"
      ]
    },
    {
      "cell_type": "code",
      "execution_count": null,
      "id": "564658fc",
      "metadata": {
        "id": "564658fc"
      },
      "outputs": [],
      "source": [
        "import numpy as np\n",
        "Z = np.array([1, 2, 3, 4, 5])"
      ]
    },
    {
      "cell_type": "markdown",
      "id": "c34e94bf",
      "metadata": {
        "id": "c34e94bf"
      },
      "source": [
        "#### 28. What are the result of the following expressions? (★☆☆)\n",
        "```python\n",
        "np.array(0) / np.array(0)\n",
        "np.array(0) // np.array(0)\n",
        "np.array([np.nan]).astype(int).astype(float)\n",
        "```"
      ]
    },
    {
      "cell_type": "code",
      "execution_count": null,
      "id": "56663562",
      "metadata": {
        "id": "56663562"
      },
      "outputs": [],
      "source": [
        "import numpy as np\n",
        "result = np.array(0) / np.array(0)\n",
        "print(result)\n",
        "\n",
        "result = np.array(0) // np.array(0)\n",
        "print(result)\n",
        "\n",
        "result = np.array([np.nan]).astype(int).astype(float)\n",
        "print(result)\n"
      ]
    },
    {
      "cell_type": "markdown",
      "id": "546f5e7b",
      "metadata": {
        "id": "546f5e7b"
      },
      "source": [
        "#### 29. How to round away from zero a float array ? (★☆☆)"
      ]
    },
    {
      "cell_type": "code",
      "execution_count": null,
      "id": "f725a6d2",
      "metadata": {
        "id": "f725a6d2"
      },
      "outputs": [],
      "source": [
        "import numpy as np\n",
        "\n",
        "arr = np.array([-1.5, -2.3, 0.7, 3.3, -4.8, 2.5])\n",
        "\n",
        "rounded_arr = np.copysign(np.ceil(np.abs(arr)), arr)\n",
        "\n",
        "print(rounded_arr)"
      ]
    },
    {
      "cell_type": "markdown",
      "id": "eadca856",
      "metadata": {
        "id": "eadca856"
      },
      "source": [
        "#### 30. How to find common values between two arrays? (★☆☆)\n",
        "\n",
        "---\n",
        "\n"
      ]
    },
    {
      "cell_type": "code",
      "execution_count": null,
      "id": "e0270b5b",
      "metadata": {
        "id": "e0270b5b"
      },
      "outputs": [],
      "source": [
        "import numpy as np\n",
        "\n",
        "array1 = np.array([1, 2, 3, 4, 5])\n",
        "array2 = np.array([4, 5, 6, 7, 8])\n",
        "\n",
        "common_values = np.intersect1d(array1, array2)\n",
        "\n",
        "print(\"Common values:\", common_values)"
      ]
    },
    {
      "cell_type": "markdown",
      "id": "ca16ca22",
      "metadata": {
        "id": "ca16ca22"
      },
      "source": [
        "#### 31. How to ignore all numpy warnings (not recommended)? (★☆☆)"
      ]
    },
    {
      "cell_type": "code",
      "execution_count": null,
      "id": "7d7208ef",
      "metadata": {
        "id": "7d7208ef"
      },
      "outputs": [],
      "source": [
        "import numpy as np\n",
        "import warnings\n",
        "\n",
        "warnings.filterwarnings(\"ignore\")\n",
        "\n",
        "result = np.array([1, 2, 3]) / 0\n",
        "\n",
        "print(result)"
      ]
    },
    {
      "cell_type": "markdown",
      "id": "c7871d0d",
      "metadata": {
        "id": "c7871d0d"
      },
      "source": [
        "#### 32. Is the following expressions true? (★☆☆)\n",
        "```python\n",
        "np.sqrt(-1) == np.emath.sqrt(-1)\n",
        "```"
      ]
    },
    {
      "cell_type": "code",
      "execution_count": null,
      "id": "acc3701a",
      "metadata": {
        "id": "acc3701a"
      },
      "outputs": [],
      "source": [
        "import numpy as np\n",
        "\n",
        "np.sqrt(-1) == np.emath.sqrt(-1)\n"
      ]
    },
    {
      "cell_type": "markdown",
      "id": "e0433e30",
      "metadata": {
        "id": "e0433e30"
      },
      "source": [
        "#### 33. How to get the dates of yesterday, today and tomorrow? (★☆☆)"
      ]
    },
    {
      "cell_type": "code",
      "execution_count": null,
      "id": "9c4d2152",
      "metadata": {
        "id": "9c4d2152"
      },
      "outputs": [],
      "source": [
        "import numpy as np\n",
        "from datetime import datetime, timedelta\n",
        "\n",
        "# Today's date\n",
        "today = np.datetime64('today', 'D')\n",
        "\n",
        "# Yesterday's date\n",
        "yesterday = today - np.timedelta64(1, 'D')\n",
        "\n",
        "# Tomorrow's date\n",
        "tomorrow = today + np.timedelta64(1, 'D')\n",
        "\n",
        "# Print the results\n",
        "print(\"Yesterday:\", yesterday)\n",
        "print(\"Today:\", today)\n",
        "print(\"Tomorrow:\", tomorrow)"
      ]
    },
    {
      "cell_type": "markdown",
      "id": "9f52a2ef",
      "metadata": {
        "id": "9f52a2ef"
      },
      "source": [
        "#### 34. How to get all the dates corresponding to the month of July 2016? (★★☆)"
      ]
    },
    {
      "cell_type": "code",
      "execution_count": null,
      "id": "d6c34dec",
      "metadata": {
        "id": "d6c34dec"
      },
      "outputs": [],
      "source": [
        "import numpy as np\n",
        "\n",
        "# Generate dates for July 2016\n",
        "july_2016 = np.arange('2016-07', '2016-08', dtype='datetime64[D]')\n",
        "\n",
        "# Print the result\n",
        "print(july_2016)"
      ]
    },
    {
      "cell_type": "markdown",
      "id": "4a64e059",
      "metadata": {
        "id": "4a64e059"
      },
      "source": [
        "#### 35. How to compute ((A+B)*(-A/2)) in place (without copy)? (★★☆)\n",
        "\n",
        "*   List item\n",
        "*   List item\n",
        "\n"
      ]
    },
    {
      "cell_type": "code",
      "execution_count": null,
      "id": "49267f60",
      "metadata": {
        "id": "49267f60"
      },
      "outputs": [],
      "source": [
        "import numpy as np\n",
        "\n",
        "A = np.array([1, 2, 3, 4], dtype=float)\n",
        "B = np.array([5, 6, 7, 8], dtype=float)\n",
        "\n",
        "A += B\n",
        "A *= -A / 2\n",
        "\n",
        "print(A)"
      ]
    },
    {
      "cell_type": "markdown",
      "id": "8a98c2a8",
      "metadata": {
        "id": "8a98c2a8"
      },
      "source": [
        "#### 36. Extract the integer part of a random array of positive numbers using 4 different methods (★★☆)"
      ]
    },
    {
      "cell_type": "code",
      "execution_count": null,
      "id": "368130b3",
      "metadata": {
        "id": "368130b3"
      },
      "outputs": [],
      "source": [
        "import numpy as np\n",
        "\n",
        "# Create a random array of positive numbers\n",
        "arr = np.random.uniform(0, 10, 5)\n",
        "print(\"Original array:\", arr)\n",
        "\n",
        "# 1. Using np.floor\n",
        "int_part_floor = np.floor(arr)\n",
        "print(\"Integer part (floor):\", int_part_floor)\n",
        "\n",
        "# 2. Using np.trunc\n",
        "int_part_trunc = np.trunc(arr)\n",
        "print(\"Integer part (trunc):\", int_part_trunc)\n",
        "\n",
        "# 3. Using astype(int)\n",
        "int_part_astype = arr.astype(int)\n",
        "print(\"Integer part (astype):\", int_part_astype)\n",
        "\n",
        "# 4. Using np.round with decimals=0 and casting\n",
        "int_part_round = np.round(arr, 0).astype(int)\n",
        "print(\"Integer part (round and cast):\", int_part_round)\n"
      ]
    },
    {
      "cell_type": "markdown",
      "id": "5a2e3d85",
      "metadata": {
        "id": "5a2e3d85"
      },
      "source": [
        "#### 37. Create a 5x5 matrix with row values ranging from 0 to 4 (★★☆)"
      ]
    },
    {
      "cell_type": "code",
      "execution_count": null,
      "id": "1d974e8f",
      "metadata": {
        "id": "1d974e8f"
      },
      "outputs": [],
      "source": [
        "import numpy as np\n",
        "\n",
        "# Create a 5x5 matrix with row values from 0 to 4\n",
        "matrix = np.tile(np.arange(5), (5, 1))\n",
        "print(matrix)\n"
      ]
    },
    {
      "cell_type": "markdown",
      "id": "9720e2d5",
      "metadata": {
        "id": "9720e2d5"
      },
      "source": [
        "#### 38. Consider a generator function that generates 10 integers and use it to build an array (★☆☆)"
      ]
    },
    {
      "cell_type": "code",
      "execution_count": null,
      "id": "e5dd8fc9",
      "metadata": {
        "id": "e5dd8fc9"
      },
      "outputs": [],
      "source": [
        "import numpy as np\n",
        "\n",
        "# Generator function to yield 10 integers\n",
        "def generate_numbers():\n",
        "    for i in range(10):\n",
        "        yield i\n",
        "\n",
        "array = np.fromiter(generate_numbers(), dtype=int)\n",
        "\n",
        "print(array)"
      ]
    },
    {
      "cell_type": "markdown",
      "id": "c6f2c912",
      "metadata": {
        "id": "c6f2c912"
      },
      "source": [
        "#### 39. Create a vector of size 10 with values ranging from 0 to 1, both excluded (★★☆)"
      ]
    },
    {
      "cell_type": "code",
      "execution_count": null,
      "id": "6aaa27d3",
      "metadata": {
        "id": "6aaa27d3"
      },
      "outputs": [],
      "source": [
        "import numpy as np\n",
        "\n",
        "# Create a vector of size 10 with values between 0 and 1 (excluded)\n",
        "vector = np.linspace(0, 1, 12)[1:-1]\n",
        "\n",
        "# Print the result\n",
        "print(vector)\n"
      ]
    },
    {
      "cell_type": "markdown",
      "id": "a36d6ee4",
      "metadata": {
        "id": "a36d6ee4"
      },
      "source": [
        "#### 40. Create a random vector of size 10 and sort it (★★☆)"
      ]
    },
    {
      "cell_type": "code",
      "execution_count": null,
      "id": "e589d216",
      "metadata": {
        "id": "e589d216"
      },
      "outputs": [],
      "source": [
        "import numpy as np\n",
        "\n",
        "vector = np.random.rand(10)\n",
        "\n",
        "sorted_vector = np.sort(vector)\n",
        "\n",
        "print(\"Original Vector:\", vector)\n",
        "print(\"Sorted Vector:\", sorted_vector)"
      ]
    },
    {
      "cell_type": "markdown",
      "id": "0fb4ad68",
      "metadata": {
        "id": "0fb4ad68"
      },
      "source": [
        "#### 41. How to sum a small array faster than np.sum? (★★☆)"
      ]
    },
    {
      "cell_type": "code",
      "execution_count": null,
      "id": "a1ba05a0",
      "metadata": {
        "id": "a1ba05a0"
      },
      "outputs": [],
      "source": [
        "import numba\n",
        "\n",
        "@numba.njit\n",
        "def fast_sum(arr):\n",
        "    s = 0\n",
        "    for x in arr:\n",
        "        s += x\n",
        "    return s\n",
        "\n",
        "result = fast_sum(arr)\n"
      ]
    },
    {
      "cell_type": "markdown",
      "id": "024ac365",
      "metadata": {
        "id": "024ac365"
      },
      "source": [
        "#### 42. Consider two random array A and B, check if they are equal (★★☆)"
      ]
    },
    {
      "cell_type": "code",
      "execution_count": null,
      "id": "7db3846d",
      "metadata": {
        "id": "7db3846d"
      },
      "outputs": [],
      "source": [
        "import numpy as np\n",
        "\n",
        "A = np.random.randint(0, 10, size=(3, 3))\n",
        "B = np.random.randint(0, 10, size=(3, 3))\n",
        "\n",
        "equal = np.array_equal(A, B)\n",
        "print(equal)  # True if A and B are exactly the same\n"
      ]
    },
    {
      "cell_type": "markdown",
      "id": "c68d2401",
      "metadata": {
        "id": "c68d2401"
      },
      "source": [
        "#### 43. Make an array immutable (read-only) (★★☆)"
      ]
    },
    {
      "cell_type": "code",
      "execution_count": null,
      "id": "7828539d",
      "metadata": {
        "id": "7828539d"
      },
      "outputs": [],
      "source": [
        "import numpy as np\n",
        "\n",
        "A = np.array([1, 2, 3, 4, 5])\n",
        "A.setflags(write=False)  # Make it immutable\n",
        "\n",
        "# Trying to modify the array will raise an error\n",
        "A[0] = 10  # Raises: ValueError: assignment destination is read-only\n"
      ]
    },
    {
      "cell_type": "markdown",
      "id": "55df6280",
      "metadata": {
        "id": "55df6280"
      },
      "source": [
        "#### 44. Consider a random 10x2 matrix representing cartesian coordinates, convert them to polar coordinates (★★☆)"
      ]
    },
    {
      "cell_type": "code",
      "execution_count": null,
      "id": "f1c86ea0",
      "metadata": {
        "id": "f1c86ea0"
      },
      "outputs": [],
      "source": [
        "import numpy as np\n",
        "\n",
        "# Generate a random 10x2 matrix with (x, y) coordinates\n",
        "cartesian_coords = np.random.rand(10, 2) * 10  # Random values in range [0, 10]\n",
        "\n",
        "# Convert to polar coordinates\n",
        "x, y = cartesian_coords[:, 0], cartesian_coords[:, 1]\n",
        "r = np.sqrt(x**2 + y**2)  # Compute radius\n",
        "theta = np.arctan2(y, x)  # Compute angle in radians\n",
        "\n",
        "# Stack results as a 10x2 matrix (r, theta)\n",
        "polar_coords = np.column_stack((r, theta))\n",
        "\n",
        "print(\"Cartesian Coordinates:\\n\", cartesian_coords)\n",
        "print(\"\\nPolar Coordinates:\\n\", polar_coords)\n"
      ]
    },
    {
      "cell_type": "markdown",
      "id": "2f60f1ec",
      "metadata": {
        "id": "2f60f1ec"
      },
      "source": [
        "#### 45. Create random vector of size 10 and replace the maximum value by 0 (★★☆)"
      ]
    },
    {
      "cell_type": "code",
      "execution_count": null,
      "id": "d9f48f1c",
      "metadata": {
        "id": "d9f48f1c"
      },
      "outputs": [],
      "source": [
        "import numpy as np\n",
        "\n",
        "# Generate a random vector of size 10\n",
        "vec = np.random.rand(10) * 100  # Scale to a larger range for better visualization\n",
        "print(\"Original Vector:\\n\", vec)\n",
        "\n",
        "# Find the index of the maximum value\n",
        "max_index = np.argmax(vec)\n",
        "\n",
        "# Replace the maximum value with 0\n",
        "vec[max_index] = 0\n",
        "\n",
        "print(\"\\nModified Vector (Max replaced by 0):\\n\", vec)\n"
      ]
    },
    {
      "cell_type": "markdown",
      "id": "084e8ad4",
      "metadata": {
        "id": "084e8ad4"
      },
      "source": [
        "#### 46. Create a structured array with `x` and `y` coordinates covering the [0,1]x[0,1] area (★★☆)"
      ]
    },
    {
      "cell_type": "code",
      "execution_count": null,
      "id": "58b47c13",
      "metadata": {
        "id": "58b47c13"
      },
      "outputs": [],
      "source": [
        "import numpy as np\n",
        "\n",
        "# Define grid resolution (e.g., 10x10)\n",
        "n = 10\n",
        "\n",
        "# Generate x and y coordinates\n",
        "x = np.linspace(0, 1, n)\n",
        "y = np.linspace(0, 1, n)\n",
        "\n",
        "# Create meshgrid\n",
        "X, Y = np.meshgrid(x, y)\n",
        "\n",
        "# Create a structured array with fields 'x' and 'y'\n",
        "structured_array = np.zeros(X.shape, dtype=[('x', float), ('y', float)])\n",
        "\n",
        "# Assign values\n",
        "structured_array['x'], structured_array['y'] = X, Y\n",
        "\n",
        "print(structured_array)\n"
      ]
    },
    {
      "cell_type": "markdown",
      "id": "d7b9bc42",
      "metadata": {
        "id": "d7b9bc42"
      },
      "source": [
        "#### 47. Given two arrays, X and Y, construct the Cauchy matrix C (Cij =1/(xi - yj)) (★★☆)"
      ]
    },
    {
      "cell_type": "code",
      "execution_count": null,
      "id": "a24824fb",
      "metadata": {
        "id": "a24824fb"
      },
      "outputs": [],
      "source": [
        "import numpy as np\n",
        "\n",
        "# Generate random arrays X and Y\n",
        "X = np.random.rand(5)  # Example: 5 elements\n",
        "Y = np.random.rand(5)  # Example: 5 elements\n",
        "\n",
        "# Compute the Cauchy matrix using broadcasting\n",
        "C = 1.0 / (X[:, np.newaxis] - Y)  # Reshape X to column vector\n",
        "\n",
        "print(\"X:\\n\", X)\n",
        "print(\"\\nY:\\n\", Y)\n",
        "print(\"\\nCauchy Matrix:\\n\", C)\n"
      ]
    },
    {
      "cell_type": "markdown",
      "id": "65ebc11b",
      "metadata": {
        "id": "65ebc11b"
      },
      "source": [
        "#### 48. Print the minimum and maximum representable value for each numpy scalar type (★★☆)"
      ]
    },
    {
      "cell_type": "code",
      "execution_count": null,
      "id": "e45d38fb",
      "metadata": {
        "id": "e45d38fb"
      },
      "outputs": [],
      "source": [
        "import numpy as np\n",
        "\n",
        "# List of NumPy scalar types\n",
        "scalar_types = [\n",
        "    np.int8, np.int16, np.int32, np.int64,  # Integer types\n",
        "    np.uint8, np.uint16, np.uint32, np.uint64,  # Unsigned integer types\n",
        "    np.float16, np.float32, np.float64, np.float128  # Floating-point types\n",
        "]\n",
        "\n",
        "# Print min/max values\n",
        "for dtype in scalar_types:\n",
        "    if np.issubdtype(dtype, np.integer):  # Integer types\n",
        "        info = np.iinfo(dtype)\n",
        "    else:  # Floating-point types\n",
        "        info = np.finfo(dtype)\n",
        "\n",
        "    print(f\"{dtype.__name__}: min={info.min}, max={info.max}\")\n"
      ]
    },
    {
      "cell_type": "markdown",
      "id": "9b317a98",
      "metadata": {
        "id": "9b317a98"
      },
      "source": [
        "#### 49. How to print all the values of an array? (★★☆)"
      ]
    },
    {
      "cell_type": "code",
      "execution_count": null,
      "id": "309cdeb9",
      "metadata": {
        "id": "309cdeb9"
      },
      "outputs": [],
      "source": [
        "import numpy as np\n",
        "\n",
        "# Create a large random array\n",
        "arr = np.arange(1000)\n",
        "\n",
        "# Print entire array\n",
        "np.set_printoptions(threshold=np.inf)\n",
        "print(arr)\n",
        "\n",
        "# Reset to default behavior after printing (optional)\n",
        "np.set_printoptions(threshold=1000)\n"
      ]
    },
    {
      "cell_type": "markdown",
      "id": "b580f9d0",
      "metadata": {
        "id": "b580f9d0"
      },
      "source": [
        "#### 50. How to find the closest value (to a given scalar) in a vector? (★★☆)"
      ]
    },
    {
      "cell_type": "code",
      "execution_count": null,
      "id": "ebfb6714",
      "metadata": {
        "id": "ebfb6714"
      },
      "outputs": [],
      "source": [
        "import numpy as np\n",
        "\n",
        "# Create a random vector\n",
        "vec = np.random.randint(0, 100, size=10)  # Example vector with random values between 0 and 100\n",
        "scalar = 42  # The target value\n",
        "\n",
        "# Find the index of the closest value\n",
        "closest_index = np.abs(vec - scalar).argmin()\n",
        "\n",
        "# Get the closest value\n",
        "closest_value = vec[closest_index]\n",
        "\n",
        "print(\"Vector:\", vec)\n",
        "print(\"Target:\", scalar)\n",
        "print(\"Closest Value:\", closest_value)\n"
      ]
    },
    {
      "cell_type": "markdown",
      "id": "602e6252",
      "metadata": {
        "id": "602e6252"
      },
      "source": [
        "#### 51. Create a structured array representing a position (x,y) and a color (r,g,b) (★★☆)"
      ]
    },
    {
      "cell_type": "code",
      "execution_count": null,
      "id": "cf002b3a",
      "metadata": {
        "id": "cf002b3a"
      },
      "outputs": [],
      "source": [
        "import numpy as np\n",
        "\n",
        "# Define structured array dtype with fields for position (x, y) and color (r, g, b)\n",
        "dtype = [('x', float), ('y', float),  # Position\n",
        "         ('r', int), ('g', int), ('b', int)]  # Color\n",
        "\n",
        "# Create an example structured array\n",
        "data = np.array([\n",
        "    (1.0, 2.0, 255, 0, 0),   # Red at (1.0, 2.0)\n",
        "    (3.5, 4.2, 0, 255, 0),   # Green at (3.5, 4.2)\n",
        "    (5.1, 6.3, 0, 0, 255)    # Blue at (5.1, 6.3)\n",
        "], dtype=dtype)\n",
        "\n",
        "print(data)\n"
      ]
    },
    {
      "cell_type": "markdown",
      "id": "78bcd92f",
      "metadata": {
        "id": "78bcd92f"
      },
      "source": [
        "#### 52. Consider a random vector with shape (100,2) representing coordinates, find point by point distances (★★☆)"
      ]
    },
    {
      "cell_type": "code",
      "execution_count": null,
      "id": "fea7f9a6",
      "metadata": {
        "id": "fea7f9a6"
      },
      "outputs": [],
      "source": [
        "from scipy.spatial.distance import pdist, squareform\n",
        "\n",
        "# Compute condensed distance matrix (1D form)\n",
        "condensed_distances = pdist(coords)\n",
        "\n",
        "# Convert to square matrix if needed\n",
        "distance_matrix = squareform(condensed_distances)\n",
        "\n",
        "print(distance_matrix.shape)  # Output: (100, 100)\n"
      ]
    },
    {
      "cell_type": "markdown",
      "id": "343c5a85",
      "metadata": {
        "id": "343c5a85"
      },
      "source": [
        "#### 53. How to convert a float (32 bits) array into an integer (32 bits) in place?"
      ]
    },
    {
      "cell_type": "code",
      "execution_count": null,
      "id": "fc1b687b",
      "metadata": {
        "id": "fc1b687b"
      },
      "outputs": [],
      "source": [
        "import numpy as np\n",
        "\n",
        "# Create a float32 array\n",
        "arr = np.random.rand(5).astype(np.float32) * 100  # Example float values\n",
        "\n",
        "# Convert in-place\n",
        "arr.astype(np.int32, copy=False, out=arr)\n",
        "\n",
        "print(arr)  # Now arr is int32\n",
        "print(arr.dtype)  # Output: int32\n"
      ]
    },
    {
      "cell_type": "markdown",
      "id": "a69e1ace",
      "metadata": {
        "id": "a69e1ace"
      },
      "source": [
        "#### 54. How to read the following file? (★★☆)\n",
        "```\n",
        "1, 2, 3, 4, 5\n",
        "6,  ,  , 7, 8\n",
        " ,  , 9,10,11\n",
        "```"
      ]
    },
    {
      "cell_type": "code",
      "execution_count": null,
      "id": "1c7957d4",
      "metadata": {
        "id": "1c7957d4"
      },
      "outputs": [],
      "source": [
        "import numpy as np\n",
        "\n",
        "# Read the file while handling missing values as NaN\n",
        "data = np.genfromtxt(\"file.csv\", delimiter=\",\", dtype=np.float32)\n",
        "\n",
        "print(data)\n"
      ]
    },
    {
      "cell_type": "markdown",
      "id": "c23bd80d",
      "metadata": {
        "id": "c23bd80d"
      },
      "source": [
        "#### 55. What is the equivalent of enumerate for numpy arrays? (★★☆)"
      ]
    },
    {
      "cell_type": "code",
      "execution_count": null,
      "id": "d95d9578",
      "metadata": {
        "id": "d95d9578"
      },
      "outputs": [],
      "source": [
        "import numpy as np\n",
        "\n",
        "# Create a NumPy array\n",
        "arr = np.array([[10, 20, 30],\n",
        "                [40, 50, 60]])\n",
        "\n",
        "# Iterate with indices and values\n",
        "for index, value in np.ndenumerate(arr):\n",
        "    print(f\"Index: {index}, Value: {value}\")\n"
      ]
    },
    {
      "cell_type": "markdown",
      "id": "2153a5ec",
      "metadata": {
        "id": "2153a5ec"
      },
      "source": [
        "#### 56. Generate a generic 2D Gaussian-like array (★★☆)"
      ]
    },
    {
      "cell_type": "code",
      "execution_count": null,
      "id": "61122d1e",
      "metadata": {
        "id": "61122d1e"
      },
      "outputs": [],
      "source": [
        "import numpy as np\n",
        "\n",
        "# Define grid size\n",
        "size = 50  # 50x50 array\n",
        "sigma = 10  # Standard deviation\n",
        "\n",
        "# Create coordinate grid\n",
        "x = np.linspace(-size//2, size//2, size)\n",
        "y = np.linspace(-size//2, size//2, size)\n",
        "X, Y = np.meshgrid(x, y)\n",
        "\n",
        "# Compute 2D Gaussian\n",
        "gaussian = np.exp(-(X**2 + Y**2) / (2 * sigma**2))\n",
        "\n",
        "# Normalize to max value 1\n",
        "gaussian /= np.max(gaussian)\n",
        "\n",
        "print(gaussian)\n"
      ]
    },
    {
      "cell_type": "markdown",
      "id": "2e76d589",
      "metadata": {
        "id": "2e76d589"
      },
      "source": [
        "#### 57. How to randomly place p elements in a 2D array? (★★☆)"
      ]
    },
    {
      "cell_type": "code",
      "execution_count": null,
      "id": "0c2e4fcc",
      "metadata": {
        "id": "0c2e4fcc"
      },
      "outputs": [],
      "source": [
        "import numpy as np\n",
        "\n",
        "# Define array size and number of elements to place\n",
        "rows, cols = 5, 5  # 2D array of shape (5,5)\n",
        "p = 5  # Number of elements to place\n",
        "\n",
        "# Create an empty array\n",
        "array = np.zeros((rows, cols), dtype=int)\n",
        "\n",
        "# Randomly choose p unique positions\n",
        "indices = np.random.choice(rows * cols, p, replace=False)\n",
        "\n",
        "# Convert 1D indices to 2D row, col indices\n",
        "row_indices, col_indices = np.unravel_index(indices, (rows, cols))\n",
        "\n",
        "# Place elements (e.g., setting to\n"
      ]
    },
    {
      "cell_type": "markdown",
      "id": "8b3933eb",
      "metadata": {
        "id": "8b3933eb"
      },
      "source": [
        "#### 58. Subtract the mean of each row of a matrix (★★☆)"
      ]
    },
    {
      "cell_type": "code",
      "execution_count": null,
      "id": "a306c9ef",
      "metadata": {
        "id": "a306c9ef"
      },
      "outputs": [],
      "source": [
        "import numpy as np\n",
        "\n",
        "# Create a random matrix\n",
        "A = np.random.rand(4, 5)  # Example: 4x5 matrix\n",
        "\n",
        "# Compute row-wise mean\n",
        "row_means = A.mean(axis=1, keepdims=True)\n",
        "\n",
        "# Subtract row means from each row\n",
        "A_centered = A - row_means\n",
        "\n",
        "print(\"Original Matrix:\\n\", A)\n",
        "print(\"Row Means:\\n\", row_means)\n",
        "print(\"Centered Matrix:\\n\", A_centered)\n"
      ]
    },
    {
      "cell_type": "markdown",
      "id": "ea8807c0",
      "metadata": {
        "id": "ea8807c0"
      },
      "source": [
        "#### 59. How to sort an array by the nth column? (★★☆)"
      ]
    },
    {
      "cell_type": "code",
      "execution_count": null,
      "id": "cc89a699",
      "metadata": {
        "id": "cc89a699"
      },
      "outputs": [],
      "source": [
        "import numpy as np\n",
        "\n",
        "# Create a sample 2D array\n",
        "A = np.array([[3, 7, 1],\n",
        "              [2, 8, 4],\n",
        "              [5, 6, 2]])\n",
        "\n",
        "n = 1  # Column index to sort by (0-based)\n",
        "\n",
        "# Sort by the nth column\n",
        "sorted_A = A[A[:, n].argsort()]\n",
        "\n",
        "print(\"S\n"
      ]
    },
    {
      "cell_type": "markdown",
      "id": "00fa00a1",
      "metadata": {
        "id": "00fa00a1"
      },
      "source": [
        "#### 60. How to tell if a given 2D array has null columns? (★★☆)"
      ]
    },
    {
      "cell_type": "code",
      "execution_count": null,
      "id": "3436e165",
      "metadata": {
        "id": "3436e165"
      },
      "outputs": [],
      "source": [
        "import numpy as np\n",
        "\n",
        "# Example 2D array\n",
        "A = np.array([[0, 1, 2],\n",
        "              [0, 0, 3],\n",
        "              [0, 0, 0]])\n",
        "\n",
        "# Check for null (all-zero) columns\n"
      ]
    },
    {
      "cell_type": "markdown",
      "id": "5a65c7a2",
      "metadata": {
        "id": "5a65c7a2"
      },
      "source": [
        "#### 61. Find the nearest value from a given value in an array (★★☆)"
      ]
    },
    {
      "cell_type": "code",
      "execution_count": null,
      "id": "73f149d6",
      "metadata": {
        "id": "73f149d6"
      },
      "outputs": [],
      "source": [
        "import numpy as np\n",
        "\n",
        "# Sample array\n",
        "arr = np.array([1, 3, 7, 10, 15, 20])\n",
        "\n",
        "# Given value\n",
        "value = 9\n",
        "\n",
        "# Find index of the closest value\n",
        "idx = np.abs(arr - value).argmin()\n",
        "\n",
        "# Get the closest value\n",
        "nearest_value = arr[idx]\n",
        "\n",
        "print(\"Nearest Value:\", nearest_value)\n"
      ]
    },
    {
      "cell_type": "markdown",
      "id": "dd83e8af",
      "metadata": {
        "id": "dd83e8af"
      },
      "source": [
        "#### 62. Considering two arrays with shape (1,3) and (3,1), how to compute their sum using an iterator? (★★☆)"
      ]
    },
    {
      "cell_type": "code",
      "execution_count": null,
      "id": "29a709a1",
      "metadata": {
        "id": "29a709a1"
      },
      "outputs": [],
      "source": [
        "import numpy as np\n",
        "\n",
        "# Define two arrays\n",
        "A = np.array([[1, 2, 3]])  # Shape (1,3)\n",
        "B = np.array([[4], [5], [6]])  # Shape (3,1)\n",
        "\n",
        "# Use broadcasting to sum them\n",
        "C = A + B  # Shape (3,3)\n",
        "\n",
        "# Create an iterator for element-wise traversal\n",
        "with np.nditer([A, B, C],\n"
      ]
    },
    {
      "cell_type": "markdown",
      "id": "6c042efa",
      "metadata": {
        "id": "6c042efa"
      },
      "source": [
        "#### 63. Create an array class that has a name attribute (★★☆)"
      ]
    },
    {
      "cell_type": "code",
      "execution_count": null,
      "id": "45b3d2e0",
      "metadata": {
        "id": "45b3d2e0"
      },
      "outputs": [],
      "source": [
        "import numpy as np\n",
        "\n",
        "class NamedArray(np.ndarray):\n",
        "    def __new__(cls, input_array, name=\"Unnamed\"):\n",
        "        # Convert input array to an ndarray instance\n",
        "        obj = np.asarray(input_array).view(cls)\n",
        "        # Add a new attribute\n",
        "        obj.name = name\n",
        "        return obj\n",
        "\n",
        "    def __array_finalize__(self, obj):\n",
        "        if obj is None: return\n",
        "        # Ensure 'name' attribute persists during slicing, copying, etc.\n",
        "        self.name = getattr(obj, 'name', \"Unnamed\")\n",
        "\n",
        "# Create an instance\n",
        "arr = NamedArray([[1, 2, 3], [4, 5, 6]], name=\"MyArray\")\n",
        "\n",
        "# Print details\n",
        "print(\"Array Name:\", arr.name)\n",
        "print(\"Array Data:\\n\", arr)\n"
      ]
    },
    {
      "cell_type": "markdown",
      "id": "0a075c3d",
      "metadata": {
        "id": "0a075c3d"
      },
      "source": [
        "#### 64. Consider a given vector, how to add 1 to each element indexed by a second vector (be careful with repeated indices)? (★★★)"
      ]
    },
    {
      "cell_type": "code",
      "execution_count": null,
      "id": "36c50470",
      "metadata": {
        "id": "36c50470"
      },
      "outputs": [],
      "source": [
        "import numpy as np\n",
        "\n",
        "# Example vector\n",
        "vec = np.array([0, 1, 2, 3, 4, 5])\n",
        "\n",
        "# Indices where we want to add 1\n",
        "indices = np.array([0, 1, 1, 2, 2, 2])  # Repeated indices\n",
        "\n",
        "# Use np.add.at() to handle repeated indices correctly\n",
        "np.add.at(vec, indices, 1)\n",
        "\n",
        "print(\"Updated Vector:\", vec)\n"
      ]
    },
    {
      "cell_type": "markdown",
      "id": "0fb2f0c5",
      "metadata": {
        "id": "0fb2f0c5"
      },
      "source": [
        "#### 65. How to accumulate elements of a vector (X) to an array (F) based on an index list (I)? (★★★)"
      ]
    },
    {
      "cell_type": "code",
      "execution_count": null,
      "id": "58aa5f82",
      "metadata": {
        "id": "58aa5f82"
      },
      "outputs": [],
      "source": [
        "import numpy as np\n",
        "\n",
        "# Define index list\n",
        "I = np.array([0, 1, 1, 2, 2, 2])  # Indices in F\n",
        "\n",
        "# Define values to accumulate\n",
        "X = np.array([1, 2, 3, 4, 5, 6])  # Values\n"
      ]
    },
    {
      "cell_type": "markdown",
      "id": "d89dc506",
      "metadata": {
        "id": "d89dc506"
      },
      "source": [
        "#### 66. Considering a (w,h,3) image of (dtype=ubyte), compute the number of unique colors (★★☆)"
      ]
    },
    {
      "cell_type": "code",
      "execution_count": null,
      "id": "8fb43a49",
      "metadata": {
        "id": "8fb43a49"
      },
      "outputs": [],
      "source": [
        "import numpy as np\n",
        "\n",
        "# Create a random (w, h, 3) image (for example: 100x100 RGB image)\n",
        "w, h = 100, 100\n",
        "image = np.random.randint(0, 256, size=(w, h, 3), dtype=np.uint8)\n",
        "\n",
        "# Reshape to a 2D\n"
      ]
    },
    {
      "cell_type": "markdown",
      "id": "535a5d81",
      "metadata": {
        "id": "535a5d81"
      },
      "source": [
        "#### 67. Considering a four dimensions array, how to get sum over the last two axis at once? (★★★)"
      ]
    },
    {
      "cell_type": "code",
      "execution_count": null,
      "id": "f954ab9d",
      "metadata": {
        "id": "f954ab9d"
      },
      "outputs": [],
      "source": [
        "import numpy as np\n",
        "\n",
        "# Create a 4D array (example: shape (3, 4, 5, 6))\n",
        "A = np.random.rand(3, 4, 5, 6)\n",
        "\n",
        "# Sum over the last two axes (axis=-2 and axis=-1)\n",
        "result = np.sum(A, axis=(-2, -1))\n",
        "\n",
        "print(\"Original Shape:\", A.shape)\n",
        "print(\"Result Shape:\", result.shape)\n"
      ]
    },
    {
      "cell_type": "markdown",
      "id": "eee66d3c",
      "metadata": {
        "id": "eee66d3c"
      },
      "source": [
        "#### 68. Considering a one-dimensional vector D, how to compute means of subsets of D using a vector S of same size describing subset  indices? (★★★)"
      ]
    },
    {
      "cell_type": "code",
      "execution_count": null,
      "id": "8929773a",
      "metadata": {
        "id": "8929773a"
      },
      "outputs": [],
      "source": [
        "import numpy as np\n",
        "\n",
        "# Example data\n",
        "D = np.array([10, 20, 30, 40, 50, 60])  # Values\n",
        "S = np.array([0, 1, 0, 1, 2, 2])        # Subset indices\n",
        "\n",
        "# Compute sums per subset\n",
        "subset_sums = np.bincount(S, weights=D)\n",
        "\n",
        "# Compute counts per subset\n",
        "subset_counts = np.bincount(S)\n",
        "\n",
        "# Compute means (avoid division by zero)\n",
        "subset_means = subset_sums / np.maximum(subset_counts, 1)\n",
        "\n",
        "print(\"Subset Means:\", subset_me\n"
      ]
    },
    {
      "cell_type": "markdown",
      "id": "f90d4c40",
      "metadata": {
        "id": "f90d4c40"
      },
      "source": [
        "#### 69. How to get the diagonal of a dot product? (★★★)"
      ]
    },
    {
      "cell_type": "code",
      "execution_count": null,
      "id": "b47d392d",
      "metadata": {
        "id": "b47d392d"
      },
      "outputs": [],
      "source": [
        "import numpy as np\n",
        "\n",
        "# Example matrices\n",
        "A = np.random.rand(4, 3)\n",
        "B = np.random.rand(3, 4)\n",
        "\n",
        "# Compute the diagonal of the dot product A @ B\n",
        "diag_result = np.einsum('ij,ji->i', A, B)\n",
        "\n",
        "print(\"Diagonal of A @ B:\", diag_result)\n"
      ]
    },
    {
      "cell_type": "markdown",
      "id": "a8a97e7d",
      "metadata": {
        "id": "a8a97e7d"
      },
      "source": [
        "#### 70. Consider the vector [1, 2, 3, 4, 5], how to build a new vector with 3 consecutive zeros interleaved between each value? (★★★)"
      ]
    },
    {
      "cell_type": "code",
      "execution_count": null,
      "id": "ee6c6c37",
      "metadata": {
        "id": "ee6c6c37"
      },
      "outputs": [],
      "source": [
        "import numpy as np\n",
        "\n",
        "# Original vector\n",
        "v = np.array([1, 2, 3, 4, 5])\n",
        "\n",
        "# Define new shape (each element + 3 zeros)\n",
        "n_zeros = 3\n",
        "new_length = len(v) + (len(v) - 1) * n_zeros\n",
        "\n",
        "# Create an empty array of zeros\n",
        "new_v = np.zeros(new_length, dtype\n"
      ]
    },
    {
      "cell_type": "markdown",
      "id": "d6a30d60",
      "metadata": {
        "id": "d6a30d60"
      },
      "source": [
        "#### 71. Consider an array of dimension (5,5,3), how to mulitply it by an array with dimensions (5,5)? (★★★)"
      ]
    },
    {
      "cell_type": "code",
      "execution_count": null,
      "id": "e9703f2e",
      "metadata": {
        "id": "e9703f2e"
      },
      "outputs": [],
      "source": [
        "import numpy as np\n",
        "\n",
        "# Create a (5,5,3) array\n",
        "A = np.random.rand(5, 5, 3)\n",
        "\n",
        "# Create a (5,5) array\n",
        "B = np.random.rand(5, 5)\n",
        "\n",
        "# Multiply using broadcasting\n",
        "result = A * B[:, :, np.newaxis]  # Expands B to (5,5,1) for broadcasting\n",
        "\n",
        "print(\"Result Shape:\", result.shape)  # Should be (5,5,3)\n"
      ]
    },
    {
      "cell_type": "markdown",
      "id": "bac359a9",
      "metadata": {
        "id": "bac359a9"
      },
      "source": [
        "#### 72. How to swap two rows of an array? (★★★)"
      ]
    },
    {
      "cell_type": "code",
      "execution_count": null,
      "id": "f1b432b1",
      "metadata": {
        "id": "f1b432b1"
      },
      "outputs": [],
      "source": [
        "import numpy as np\n",
        "\n",
        "# Example 2D array\n",
        "A = np.array([[1, 2, 3],\n",
        "              [4, 5, 6],\n",
        "              [7, 8, 9]])\n",
        "\n",
        "# Swap row 0 and row 2\n",
        "A[[0, 2]] = A[[2, 0]]\n",
        "\n",
        "print(A)\n"
      ]
    },
    {
      "cell_type": "markdown",
      "id": "620c9f83",
      "metadata": {
        "id": "620c9f83"
      },
      "source": [
        "#### 73. Consider a set of 10 triplets describing 10 triangles (with shared vertices), find the set of unique line segments composing all the  triangles (★★★)"
      ]
    },
    {
      "cell_type": "code",
      "execution_count": null,
      "id": "4e595ffc",
      "metadata": {
        "id": "4e595ffc"
      },
      "outputs": [],
      "source": [
        "import numpy as np\n",
        "\n",
        "# Example: 10 triangles defined by vertex triplets (vertex indices)\n",
        "triangles = np.random.randint(0, 20, (10, 3))  # 10 triangles, using 20 possible vertices\n",
        "\n",
        "# Extract all edges (each triangle has 3 edges)\n",
        "edges\n"
      ]
    },
    {
      "cell_type": "markdown",
      "id": "a76c55a2",
      "metadata": {
        "id": "a76c55a2"
      },
      "source": [
        "#### 74. Given a sorted array C that corresponds to a bincount, how to produce an array A such that np.bincount(A) == C? (★★★)"
      ]
    },
    {
      "cell_type": "code",
      "execution_count": null,
      "id": "2d2ae65a",
      "metadata": {
        "id": "2d2ae65a"
      },
      "outputs": [],
      "source": [
        "import numpy as np\n",
        "\n",
        "# Example bincount array (sorted)\n",
        "C = np.array([2, 0, 3, 1])  # Meaning: 0 appears 2 times, 1 appears 0 times, etc.\n",
        "\n",
        "# Generate A\n",
        "A = np.repeat(np.arange(len(C)), C)\n",
        "\n",
        "print(\"Generated A:\", A)\n",
        "pr\n"
      ]
    },
    {
      "cell_type": "markdown",
      "id": "d550c8e2",
      "metadata": {
        "id": "d550c8e2"
      },
      "source": [
        "#### 75. How to compute averages using a sliding window over an array? (★★★)"
      ]
    },
    {
      "cell_type": "code",
      "execution_count": null,
      "id": "841c457c",
      "metadata": {
        "id": "841c457c"
      },
      "outputs": [],
      "source": [
        "import numpy as np\n",
        "\n",
        "# Example array\n",
        "arr = np.array([1, 2, 3, 4, 5, 6, 7, 8, 9])\n",
        "\n",
        "# Window size\n",
        "window_size = 3\n",
        "\n",
        "# Compute moving average using convolution\n",
        "kernel = np.ones(window_size) / window_size\n",
        "moving_avg = np.convolve(arr, kernel, mode='valid')\n",
        "\n",
        "print(\"Moving Average:\", moving_avg)\n"
      ]
    },
    {
      "cell_type": "markdown",
      "id": "6b170b00",
      "metadata": {
        "id": "6b170b00"
      },
      "source": [
        "#### 76. Consider a one-dimensional array Z, build a two-dimensional array whose first row is (Z[0],Z[1],Z[2]) and each subsequent row is  shifted by 1 (last row should be (Z[-3],Z[-2],Z[-1]) (★★★)"
      ]
    },
    {
      "cell_type": "code",
      "execution_count": null,
      "id": "d9a0cf4e",
      "metadata": {
        "id": "d9a0cf4e"
      },
      "outputs": [],
      "source": [
        "import numpy as np\n",
        "\n",
        "# Example 1D array\n",
        "Z = np.array([1, 2, 3, 4, 5, 6, 7, 8, 9])\n",
        "\n",
        "# Window size\n",
        "window_size = 3\n",
        "\n",
        "# Build the 2D array using a sliding window\n",
        "Z_2D = np.lib.stride_tricks.sliding_window_view(Z, window_size)\n",
        "\n",
        "print(Z_2D)\n"
      ]
    },
    {
      "cell_type": "markdown",
      "id": "e94a5c1d",
      "metadata": {
        "id": "e94a5c1d"
      },
      "source": [
        "#### 77. How to negate a boolean, or to change the sign of a float inplace? (★★★)"
      ]
    },
    {
      "cell_type": "code",
      "execution_count": null,
      "id": "c0f9504f",
      "metadata": {
        "id": "c0f9504f"
      },
      "outputs": [],
      "source": [
        "import numpy as np\n",
        "\n",
        "# Boolean array\n",
        "bool_arr = np.array([True, False, True, False])\n",
        "\n",
        "# In-place negation using bitwise NOT (~)\n",
        "np.bitwise_not(bool_arr, out=bool_arr)\n",
        "\n",
        "print(bool_arr)  # Output: [False  True False  True]\n",
        "``\n"
      ]
    },
    {
      "cell_type": "markdown",
      "id": "4eb8b5c1",
      "metadata": {
        "id": "4eb8b5c1"
      },
      "source": [
        "#### 78. Consider 2 sets of points P0,P1 describing lines (2d) and a point p, how to compute distance from p to each line i (P0[i],P1[i])? (★★★)"
      ]
    },
    {
      "cell_type": "code",
      "execution_count": null,
      "id": "487f47ec",
      "metadata": {
        "id": "487f47ec"
      },
      "outputs": [],
      "source": [
        "import numpy as np\n",
        "\n",
        "# Example: 3 lines\n",
        "P0 = np.array([[0, 0], [1, 1], [2, 2]])  # Start points of lines\n",
        "P1 = np.array([[1, 0], [2, 1], [3, 2]])  # End points of lines\n",
        "p = np.array([1, 2])  # Point to measure distance from\n",
        "\n",
        "# Compute line direction vectors\n",
        "d = P1 - P0  # Direction vector\n",
        "\n",
        "# Compute vectors from P0 to p\n",
        "v = p - P0\n",
        "\n",
        "# Compute t values (projection factor)\n",
        "t = np.sum(v * d, axis=1) / np.sum(d * d, axis=1)\n",
        "\n",
        "# Compute closest points on the infinite lines\n"
      ]
    },
    {
      "cell_type": "markdown",
      "id": "3df99948",
      "metadata": {
        "id": "3df99948"
      },
      "source": [
        "#### 79. Consider 2 sets of points P0,P1 describing lines (2d) and a set of points P, how to compute distance from each point j (P[j]) to each line i (P0[i],P1[i])? (★★★)"
      ]
    },
    {
      "cell_type": "code",
      "execution_count": null,
      "id": "dc2df37b",
      "metadata": {
        "id": "dc2df37b"
      },
      "outputs": [],
      "source": [
        "import numpy as np\n",
        "\n",
        "# Define sets of lines (P0 -> P1)\n",
        "P0 = np.array([[0, 0], [1, 1], [2, 2]])  # Start points of lines (N,2)\n",
        "P1 = np.array([[1, 0], [2, 1], [3, 2]])  # End points of lines (N,2)\n",
        "\n",
        "# Define set of points P\n",
        "P = np.array([[1, 2], [3, 3], [0, 1]])  # Points (M,2)\n",
        "\n",
        "# C\n"
      ]
    },
    {
      "cell_type": "markdown",
      "id": "11e972c2",
      "metadata": {
        "id": "11e972c2"
      },
      "source": [
        "#### 80. Consider an arbitrary array, write a function that extract a subpart with a fixed shape and centered on a given element (pad with a `fill` value when necessary) (★★★)"
      ]
    },
    {
      "cell_type": "code",
      "execution_count": null,
      "id": "0291247f",
      "metadata": {
        "id": "0291247f"
      },
      "outputs": [],
      "source": [
        "import numpy as np\n",
        "\n",
        "def extract_subarray(arr, center, shape, fill_value=0):\n",
        "    \"\"\"\n",
        "    Extracts a subarray of a given shape centered on a given element,\n",
        "    padding with a fill value if necessary.\n",
        "\n",
        "    Parameters:\n",
        "    arr (ndarray): Input array.\n",
        "    center (tuple): Center position (row, col).\n",
        "    shape (tuple): Desired subarray shape (h, w).\n",
        "    fill_value (scalar): Value used for padding.\n",
        "\n",
        "    Returns:\n",
        "    subarray (ndarray): Extracted subarray with padding if needed.\n",
        "    \"\"\"\n",
        "    h, w = shape\n",
        "    ch, cw = center  # Center coordinates\n",
        "\n",
        "    # Compute start and end indices\n",
        "    start_row, end_row = ch - h // 2, ch + (h + 1) // 2\n",
        "    start_col, end_col = cw - w // 2, cw + (w + 1) // 2\n",
        "\n",
        "    # Compute padding amounts\n",
        "    pad_top, pad_bottom = max(0, -start_row), max(0, end_row - arr.shape[0])\n",
        "    pad_left, pad_right = max(0, -start_col), max(0, end_col - arr.shape[1])\n",
        "\n",
        "    # Extract valid region\n",
        "    valid_subarray = arr[max(0, start_row):min(arr.shape[0], end_row),\n",
        "                         max(0, start_col):min(arr.shape[1], end_col)]\n",
        "\n",
        "    # Apply padding\n",
        "    subarray = np.pad(valid_subarray,\n",
        "                      ((pad_top, pad_bottom), (pad_left, pad_right)),\n",
        "                      mode='constant', constant_values=fill_value)\n",
        "\n",
        "    return subarray\n",
        "\n",
        "# Example usage:\n",
        "arr = np.arange(25).reshape(5, 5)  # 5x5 test array\n",
        "center = (2, 2)  # Centered at (2,2)\n",
        "shape = (3, 3)  # Extract 3x3 subarray\n",
        "\n",
        "subarray = extract_subarray(arr, center, shape, fill_value=-1)\n",
        "print(subarray)\n",
        "\n"
      ]
    },
    {
      "cell_type": "markdown",
      "id": "93cfeab3",
      "metadata": {
        "id": "93cfeab3"
      },
      "source": [
        "#### 81. Consider an array Z = [1,2,3,4,5,6,7,8,9,10,11,12,13,14], how to generate an array R = [[1,2,3,4], [2,3,4,5], [3,4,5,6], ..., [11,12,13,14]]? (★★★)"
      ]
    },
    {
      "cell_type": "code",
      "execution_count": null,
      "id": "360de791",
      "metadata": {
        "id": "360de791"
      },
      "outputs": [],
      "source": [
        "import numpy as np\n",
        "\n",
        "def rolling_window(arr, window_size):\n",
        "    \"\"\"Generates a rolling window view of an array.\"\"\"\n",
        "    shape = (len(arr) - window_size + 1, window_size)\n",
        "    strides = (arr.strides[0], arr.strides[0])  # Move by 1 element each step\n",
        "    return np.lib.stride_tricks.as_strided(arr, shape=shape, strides=strides)\n",
        "\n",
        "# Input array\n",
        "Z = np.array([1,2,3,4,5,6,7,8,9,10,11,12,13,14])\n",
        "\n",
        "# Generate rolling window of size 4\n",
        "R = rolling_window(Z, 4)\n",
        "\n",
        "print(R)\n"
      ]
    },
    {
      "cell_type": "markdown",
      "id": "4c15ceff",
      "metadata": {
        "id": "4c15ceff"
      },
      "source": [
        "#### 82. Compute a matrix rank (★★★)"
      ]
    },
    {
      "cell_type": "code",
      "execution_count": null,
      "id": "9a4272d2",
      "metadata": {
        "id": "9a4272d2"
      },
      "outputs": [],
      "source": [
        "import numpy as np\n",
        "\n",
        "# Example matrix\n",
        "A = np.array([[1, 2, 3],\n",
        "              [4, 5, 6],\n",
        "              [7, 8, 9]])\n",
        "\n",
        "# Compute the rank\n",
        "rank = np.linalg.matrix_rank(A)\n",
        "print(\"Matrix Rank:\", rank)\n"
      ]
    },
    {
      "cell_type": "markdown",
      "id": "1171cb84",
      "metadata": {
        "id": "1171cb84"
      },
      "source": [
        "#### 83. How to find the most frequent value in an array?"
      ]
    },
    {
      "cell_type": "code",
      "execution_count": null,
      "id": "33e951c8",
      "metadata": {
        "id": "33e951c8"
      },
      "outputs": [],
      "source": [
        "import numpy as np\n",
        "\n",
        "# Example array\n",
        "arr = np.array([1, 3, 2, 1, 3, 4, 1, 3, 3])\n",
        "\n",
        "# Count occurrences of each integer\n",
        "counts = np.bincount(arr)\n",
        "\n",
        "# Find the most frequent value\n",
        "most_frequent = np.argmax(counts)\n",
        "\n",
        "print(\"Most Frequent Value:\", most_frequent)\n"
      ]
    },
    {
      "cell_type": "markdown",
      "id": "04f472aa",
      "metadata": {
        "id": "04f472aa"
      },
      "source": [
        "#### 84. Extract all the contiguous 3x3 blocks from a random 10x10 matrix (★★★)"
      ]
    },
    {
      "cell_type": "code",
      "execution_count": null,
      "id": "7aade14a",
      "metadata": {
        "id": "7aade14a"
      },
      "outputs": [],
      "source": [
        "import numpy as np\n",
        "from numpy.lib.stride_tricks import as_strided\n",
        "\n",
        "# Generate a random 10x10 matrix\n",
        "A = np.random.randint(0, 100, (10, 10))\n",
        "\n",
        "def extract_3x3_blocks(arr):\n",
        "    \"\"\"Extract all contiguous 3x3 blocks from a given 2D array.\"\"\"\n",
        "    h, w = arr.shape  # Matrix dimensions\n",
        "    block_shape = (h - 2, w - 2, 3, 3)  # Output shape\n",
        "    strides = arr.strides + arr.strides  # Define step sizes\n",
        "\n",
        "    return as_strided(arr, shape=block_shape, strides=strides)\n",
        "\n",
        "# Extract 3x3 blocks\n",
        "blocks = extract_3x3_blocks(A)\n",
        "\n",
        "print(\"Original Matrix:\\n\", A)\n",
        "print(\"\\nExtracted 3x3 Blocks (Shape: {}):\".format(block\n"
      ]
    },
    {
      "cell_type": "markdown",
      "id": "52836346",
      "metadata": {
        "id": "52836346"
      },
      "source": [
        "#### 85. Create a 2D array subclass such that Z[i,j] == Z[j,i] (★★★)"
      ]
    },
    {
      "cell_type": "code",
      "execution_count": null,
      "id": "4df70318",
      "metadata": {
        "id": "4df70318"
      },
      "outputs": [],
      "source": [
        "import numpy as np\n",
        "\n",
        "class SymmetricArray(np.ndarray):\n",
        "    \"\"\"A subclass of numpy.ndarray enforcing Z[i, j] == Z[j, i].\"\"\"\n",
        "\n",
        "    def __setitem__(self, index, value):\n",
        "        \"\"\"Ensure symmetry when setting values.\"\"\"\n",
        "        i, j = index\n",
        "        super().__setitem__((i, j), value)\n",
        "        super().__setitem__((j, i), value\n"
      ]
    },
    {
      "cell_type": "markdown",
      "id": "78c43ee5",
      "metadata": {
        "id": "78c43ee5"
      },
      "source": [
        "#### 86. Consider a set of p matrices with shape (n,n) and a set of p vectors with shape (n,1). How to compute the sum of of the p matrix products at once? (result has shape (n,1)) (★★★)"
      ]
    },
    {
      "cell_type": "code",
      "execution_count": null,
      "id": "32fd2c3b",
      "metadata": {
        "id": "32fd2c3b"
      },
      "outputs": [],
      "source": [
        "import numpy as np\n",
        "\n",
        "# Example with p=3, n=4\n",
        "p, n = 3, 4\n",
        "M = np.random.rand(p, n, n)  # Random (p, n, n) matrices\n",
        "V = np.random.rand(p, n, 1)  # Random (p, n, 1) vectors\n",
        "\n",
        "# Compute sum of matrix-vector products\n",
        "result = np.einsum(\"pij,pjk->ik\", M, V)\n",
        "\n",
        "print(\"Result Shape:\", result.shape)  # Should be (n, 1)\n",
        "print(result)\n"
      ]
    },
    {
      "cell_type": "markdown",
      "id": "158f9945",
      "metadata": {
        "id": "158f9945"
      },
      "source": [
        "#### 87. Consider a 16x16 array, how to get the block-sum (block size is 4x4)? (★★★)"
      ]
    },
    {
      "cell_type": "code",
      "execution_count": null,
      "id": "5a9b808f",
      "metadata": {
        "id": "5a9b808f"
      },
      "outputs": [],
      "source": [
        "import numpy as np\n",
        "\n",
        "# Create a 16x16 random array\n",
        "A = np.random.randint(0, 10, (16, 16))\n",
        "\n",
        "# Reshape and sum over axes (fastest way)\n",
        "block_sum = A.reshape(4, 4, 4, 4).sum(axis=(2, 3))\n",
        "\n",
        "print(block_sum.shape)\n"
      ]
    },
    {
      "cell_type": "markdown",
      "id": "2e0ad860",
      "metadata": {
        "id": "2e0ad860"
      },
      "source": [
        "#### 88. How to implement the Game of Life using numpy arrays? (★★★)"
      ]
    },
    {
      "cell_type": "code",
      "execution_count": null,
      "id": "574acff5",
      "metadata": {
        "id": "574acff5"
      },
      "outputs": [],
      "source": [
        "import numpy as np\n",
        "from scipy.signal import convolve2d\n",
        "import time\n",
        "import os\n",
        "\n",
        "def game_of_life_step(grid):\n",
        "    \"\"\"Compute the next state of the Game of Life board.\"\"\"\n",
        "    # Define the 3x3 kernel to count neighbors\n",
        "    kernel = np.array([[1, 1, 1],\n",
        "                       [1, 0, 1],\n",
        "                       [1, 1, 1]])\n",
        "\n",
        "    # Count live neighbors using convolution\n",
        "    neighbor_count = convolve2d(grid, kernel, mode\n"
      ]
    },
    {
      "cell_type": "markdown",
      "id": "69a892fa",
      "metadata": {
        "id": "69a892fa"
      },
      "source": [
        "#### 89. How to get the n largest values of an array (★★★)"
      ]
    },
    {
      "cell_type": "code",
      "execution_count": null,
      "id": "21b2bd48",
      "metadata": {
        "id": "21b2bd48"
      },
      "outputs": [],
      "source": [
        "import numpy as np\n",
        "\n",
        "# Example array\n",
        "arr = np.array([10, 3, 8, 15, 6, 20, 1])\n",
        "n = 3  # Get top 3 largest values\n",
        "\n",
        "# Use np.partition to get n largest elements (unordered)\n",
        "largest_values = np.partition(arr, -n)[-n:]\n",
        "\n",
        "# Sort them (optional)\n",
        "largest_values = np.sort(largest_values)\n",
        "\n",
        "print(largest_values)  # Output: [10 15 20]\n"
      ]
    },
    {
      "cell_type": "markdown",
      "id": "b55ccacc",
      "metadata": {
        "id": "b55ccacc"
      },
      "source": [
        "#### 90. Given an arbitrary number of vectors, build the cartesian product (every combinations of every item) (★★★)"
      ]
    },
    {
      "cell_type": "code",
      "execution_count": null,
      "id": "4b645da4",
      "metadata": {
        "id": "4b645da4"
      },
      "outputs": [],
      "source": [
        "import numpy as np\n",
        "\n",
        "def cartesian_product(*arrays):\n",
        "    \"\"\"Compute the cartesian product of input arrays.\"\"\"\n",
        "    grids = np.meshgrid(*arrays, indexing='ij')  # Create coordinate grids\n",
        "    product = np.stack(grids, axis=-1).reshape(-1, len(arrays))  # Reshape to list of combinations\n",
        "    return product\n",
        "\n",
        "# Example with 3 vectors\n",
        "A = np.array([1, 2])\n",
        "B = np.array([3, 4])\n",
        "C = np.array([5, 6])\n",
        "\n",
        "result = cartesian_product(A, B, C)\n",
        "print(result)\n"
      ]
    },
    {
      "cell_type": "markdown",
      "id": "89187a23",
      "metadata": {
        "id": "89187a23"
      },
      "source": [
        "#### 91. How to create a record array from a regular array? (★★★)"
      ]
    },
    {
      "cell_type": "code",
      "execution_count": null,
      "id": "da94c71a",
      "metadata": {
        "id": "da94c71a"
      },
      "outputs": [],
      "source": [
        "import numpy as np\n",
        "\n",
        "# Regular 2D array (each row represents a record)\n",
        "data = np.array([[1, 10.5, 'Alice'],\n",
        "                 [2, 20.3, 'Bob'],\n",
        "                 [3, 15.7, 'Charlie']], dtype=object)\n",
        "\n",
        "# Define the dtype (record fields)\n",
        "dtype = [('id', int), ('score', float), ('name', 'U10')]\n",
        "\n",
        "# Convert to record array\n",
        "record_array = np.core.records.fromarrays(data.T, dtype=dtype)\n",
        "\n",
        "print(record_array)\n",
        "print(record_array.id)  # Access column\n",
        "print(record_array.name)\n"
      ]
    },
    {
      "cell_type": "markdown",
      "id": "aa70d4ca",
      "metadata": {
        "id": "aa70d4ca"
      },
      "source": [
        "#### 92. Consider a large vector Z, compute Z to the power of 3 using 3 different methods (★★★)"
      ]
    },
    {
      "cell_type": "code",
      "execution_count": null,
      "id": "7cff1bf5",
      "metadata": {
        "id": "7cff1bf5"
      },
      "outputs": [],
      "source": [
        "import numpy as np\n",
        "\n",
        "Z = np.random.rand(1000000)  # Large vector\n",
        "\n",
        "# Method 1: Using `**` operator (fast and readable)\n",
        "Z1 = Z ** 3\n"
      ]
    },
    {
      "cell_type": "markdown",
      "id": "5f79dd00",
      "metadata": {
        "id": "5f79dd00"
      },
      "source": [
        "#### 93. Consider two arrays A and B of shape (8,3) and (2,2). How to find rows of A that contain elements of each row of B regardless of the order of the elements in B? (★★★)"
      ]
    },
    {
      "cell_type": "code",
      "execution_count": null,
      "id": "20c105b2",
      "metadata": {
        "id": "20c105b2"
      },
      "outputs": [],
      "source": [
        "import numpy as np\n",
        "\n",
        "# Example arrays\n",
        "A = np.array([[1, 2, 3], [4, 5, 6], [7, 8, 9], [1, 4, 7],\n",
        "              [2, 5, 8], [3, 6, 9], [1, 3, 5], [2, 4, 6]])\n",
        "\n",
        "B = np.array([[1, 5], [7, 9]])\n",
        "\n",
        "# Find rows in A that contain all elements of each row in B\n",
        "matches = [np.all(np.isin(b, A), axis=1) for b in B]\n",
        "\n",
        "# Convert to boolean mask\n",
        "matches = np.vstack(matches)\n"
      ]
    },
    {
      "cell_type": "markdown",
      "id": "a80570cd",
      "metadata": {
        "id": "a80570cd"
      },
      "source": [
        "#### 94. Considering a 10x3 matrix, extract rows with unequal values (e.g. [2,2,3]) (★★★)"
      ]
    },
    {
      "cell_type": "code",
      "execution_count": null,
      "id": "84db8de1",
      "metadata": {
        "id": "84db8de1"
      },
      "outputs": [],
      "source": [
        "import numpy as np\n",
        "\n",
        "# Create a random 10x3 matrix with values between 1 and 5\n",
        "np.random.seed(42)\n",
        "A = np.random.randint(1, 5, (10, 3))\n",
        "print(\"Original Matrix:\\n\", A)\n",
        "\n",
        "# Find rows where not all values are the same\n",
        "rows_with_unequal_values = A[np.apply_along_axis(\n"
      ]
    },
    {
      "cell_type": "markdown",
      "id": "ba154f43",
      "metadata": {
        "id": "ba154f43"
      },
      "source": [
        "#### 95. Convert a vector of ints into a matrix binary representation (★★★)"
      ]
    },
    {
      "cell_type": "code",
      "execution_count": null,
      "id": "cfa96e1b",
      "metadata": {
        "id": "cfa96e1b"
      },
      "outputs": [],
      "source": [
        "import numpy as np\n",
        "\n",
        "# Example vector of integers\n",
        "Z = np.array([3, 7, 8, 15], dtype=np.uint8)  # Use uint8 for up to 8-bit numbers\n",
        "\n",
        "# Convert to binary matrix\n",
        "binary_matrix = np.unpackbits(Z[:, None], axis=1)\n",
        "\n",
        "print(binary_matrix)\n"
      ]
    },
    {
      "cell_type": "markdown",
      "id": "420e2343",
      "metadata": {
        "id": "420e2343"
      },
      "source": [
        "#### 96. Given a two dimensional array, how to extract unique rows? (★★★)"
      ]
    },
    {
      "cell_type": "code",
      "execution_count": null,
      "id": "4680dfd0",
      "metadata": {
        "id": "4680dfd0"
      },
      "outputs": [],
      "source": [
        "import numpy as np\n",
        "\n",
        "# Example 2D array\n",
        "A = np.array([[1, 2], [3, 4], [1, 2], [5, 6], [3, 4]])\n",
        "\n",
        "# Extract unique rows\n",
        "unique_rows = np.unique(A, axis=0)\n",
        "\n",
        "print(unique_rows)\n"
      ]
    },
    {
      "cell_type": "markdown",
      "id": "89fef2f3",
      "metadata": {
        "id": "89fef2f3"
      },
      "source": [
        "#### 97. Considering 2 vectors A & B, write the einsum equivalent of inner, outer, sum, and mul function (★★★)"
      ]
    },
    {
      "cell_type": "code",
      "execution_count": null,
      "id": "bb9c14b2",
      "metadata": {
        "id": "bb9c14b2"
      },
      "outputs": [],
      "source": [
        "import numpy as np\n",
        "\n",
        "A = np.array([1, 2, 3])\n",
        "B = np.array([4, 5, 6])\n",
        "\n",
        "inner_product = np.einsum('i,i->', A, B)  # Equivalent to np.inner(A, B)\n",
        "print(inner_product)  # Output: 32\n"
      ]
    },
    {
      "cell_type": "markdown",
      "id": "7ad5cc5f",
      "metadata": {
        "id": "7ad5cc5f"
      },
      "source": [
        "#### 98. Considering a path described by two vectors (X,Y), how to sample it using equidistant samples (★★★)?"
      ]
    },
    {
      "cell_type": "code",
      "execution_count": null,
      "id": "0899d1d5",
      "metadata": {
        "id": "0899d1d5"
      },
      "outputs": [],
      "source": [
        "import numpy as np\n",
        "import scipy.interpolate as interp\n",
        "\n",
        "# Given path described by (X, Y)\n",
        "X = np.array([0, 1, 2, 3, 4])\n",
        "Y = np.array([0, 1, 1, 2, 2])\n",
        "\n",
        "# Step 1: Compute the cumulative distance along the path\n",
        "distances = np.sqrt(np.diff(X)**2 + np.diff(Y)**2)  # Segment lengths\n",
        "arc_lengths = np.insert(np.cumsum(distances), 0, 0)  # Cumulative distances\n",
        "\n",
        "# Step 2: Define number of desired equidistant samples\n",
        "num_samples = 10  # Change this for different resolutions\n",
        "equal_arc_lengths = np.linspace(0, arc_lengths[-1], num_samples)  # Uniform samples\n",
        "\n",
        "# Step 3: Interpolate new points\n",
        "interp_x = interp.interp1d(arc_lengths, X, kind='linear')\n",
        "interp_y = interp.interp1d(arc_lengths, Y, kind='linear')\n",
        "\n",
        "X_new = interp_x(equal_arc_lengths)\n",
        "Y_new = interp_y(equal_arc_lengths)\n",
        "\n",
        "# Output new sampled coordinates\n",
        "print(X_new)\n",
        "print(Y_new)\n"
      ]
    },
    {
      "cell_type": "markdown",
      "id": "2b69272e",
      "metadata": {
        "id": "2b69272e"
      },
      "source": [
        "#### 99. Given an integer n and a 2D array X, select from X the rows which can be interpreted as draws from a multinomial distribution with n degrees, i.e., the rows which only contain integers and which sum to n. (★★★)"
      ]
    },
    {
      "cell_type": "code",
      "execution_count": null,
      "id": "55c8b034",
      "metadata": {
        "id": "55c8b034"
      },
      "outputs": [],
      "source": [
        "import numpy as np\n",
        "\n",
        "def select_multinomial_rows(X, n):\n",
        "    \"\"\" Select rows from X that contain only integers and sum to n \"\"\"\n",
        "    # Check if all elements in each row are integers and row sum is n\n",
        "    valid_rows = np.all(np.mod(X, 1) == 0, axis=1) & (np.sum(X, axis=1) == n)\n",
        "    return X[valid_rows]\n",
        "\n",
        "# Example input\n",
        "X = np.array([[1.0, 2.0, 3.0],  # ✅ Integers, sum = 6\n",
        "              [2.5, 3.5, 0.0],  # ❌ Not all integers\n",
        "              [0, 3, 2],        # ✅ Integers, sum = 5\n",
        "              [1, 1, 1]])       # ❌ Sum ≠ 5\n",
        "\n",
        "n = 5  # Target multinomial degree\n",
        "\n",
        "# Select valid multinomial rows\n",
        "valid_X = select_multinomial_rows(X, n)\n",
        "\n",
        "print(valid_X)\n"
      ]
    },
    {
      "cell_type": "markdown",
      "id": "59ab5516",
      "metadata": {
        "id": "59ab5516"
      },
      "source": [
        "#### 100. Compute bootstrapped 95% confidence intervals for the mean of a 1D array X (i.e., resample the elements of an array with replacement N times, compute the mean of each sample, and then compute percentiles over the means). (★★★)"
      ]
    },
    {
      "cell_type": "code",
      "execution_count": null,
      "id": "450877d8",
      "metadata": {
        "id": "450877d8"
      },
      "outputs": [],
      "source": [
        "import numpy as np\n",
        "\n",
        "def bootstrap_ci(X, N=1000, confidence=95):\n",
        "    \"\"\"Compute bootstrapped confidence interval for the mean of X.\"\"\"\n",
        "    boot_means = np.array([np.mean(np.random.choice(X, size=len(X), replace=True)) for _ in range(N)])\n",
        "\n",
        "    # Compute percentiles for confidence interval\n",
        "    lower_bound = np.percentile(boot_means, (100 - confidence) / 2)\n",
        "    upper_bound = np.percentile(boot_means, 100 - (100 - confidence) / 2)\n",
        "\n",
        "    return lower_bound, upper_bound\n",
        "\n",
        "# Example input\n",
        "X = np.random.randn(100)  # 100 random samples from a normal distribution\n",
        "\n",
        "# Compute 95% confidence interval\n",
        "ci_lower, ci_upper = bootstrap_ci(X)\n",
        "\n",
        "print(f\"95% Confidence Interval for the Mean: ({ci_lower:.3f}, {ci_upper:.3f})\")\n"
      ]
    }
  ],
  "metadata": {
    "colab": {
      "provenance": []
    },
    "language_info": {
      "name": "python"
    },
    "kernelspec": {
      "name": "python3",
      "display_name": "Python 3"
    }
  },
  "nbformat": 4,
  "nbformat_minor": 5
}